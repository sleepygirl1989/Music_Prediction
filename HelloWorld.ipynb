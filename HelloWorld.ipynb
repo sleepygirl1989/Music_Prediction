{
 "cells": [
  {
   "cell_type": "code",
   "execution_count": 52,
   "id": "6accb1cd",
   "metadata": {},
   "outputs": [],
   "source": [
    "import pandas as pd\n",
    "from sklearn.tree import DecisionTreeClassifier\n",
    "from sklearn import tree\n",
    "\n",
    "music_data = pd.read_csv(\"music.csv\")\n",
    "X=music_data.drop(columns= [\"genre\"])\n",
    "y=music_data[\"genre\"]\n",
    "\n",
    "\n",
    "model = DecisionTreeClassifier()\n",
    "model.fit(X,y)\n",
    "\n",
    "tree.export_graphviz(model , out_file = \"music-recommender.dot\" ,\n",
    "                    feature_names = [\"age\",\"gender\"],\n",
    "                    class_names = sorted(y.unique()),\n",
    "                    label =\"all\",\n",
    "                    rounded = True,\n",
    "                    filled = True)\n",
    "\n",
    "# model = joblib.load(\"music-recommendation.joblib\")\n",
    "\n",
    "# predictions = model.predict([ [21,1] ])\n",
    "# predictions\n"
   ]
  },
  {
   "cell_type": "code",
   "execution_count": null,
   "id": "06e4ec61",
   "metadata": {},
   "outputs": [],
   "source": []
  },
  {
   "cell_type": "code",
   "execution_count": null,
   "id": "3d27d959",
   "metadata": {},
   "outputs": [],
   "source": []
  }
 ],
 "metadata": {
  "kernelspec": {
   "display_name": "Python 3",
   "language": "python",
   "name": "python3"
  },
  "language_info": {
   "codemirror_mode": {
    "name": "ipython",
    "version": 3
   },
   "file_extension": ".py",
   "mimetype": "text/x-python",
   "name": "python",
   "nbconvert_exporter": "python",
   "pygments_lexer": "ipython3",
   "version": "3.8.8"
  }
 },
 "nbformat": 4,
 "nbformat_minor": 5
}
